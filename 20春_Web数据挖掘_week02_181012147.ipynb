{
 "cells": [
  {
   "cell_type": "markdown",
   "metadata": {},
   "source": [
    "# HTML解析简介\n",
    "\n",
    "*  本周主要内容：HTML解析（parse HTML）及Xpath实践\n",
    "*  20春_Web数据挖掘_week02\n",
    "*  电子讲义原设计者：廖汉腾, 许智超\n",
    "*  电子讲义练习改写者：XXX\n",
    "  * 本周电子讲义互评工作坊，依序做以下动作：\n",
    "     * 在e.nfu.edu.cn下载此文档\n",
    "     * 在自己本地端实操，把ipynb文档中的123456789改名为学号\n",
    "     * <mark>在还没有改动之前，先把此后缀为学号ipynb文档上传至Github为第一版</mark> (其它文档不计)\n",
    "     * 在自己本地端实操，练习所有内容，按需增减本讲义内容，含代码丶markdown丶新数据(含其连结)及\n",
    "     * 及格至少要做: <mark>**\"本周小结内容\" 以markdown语法，按上课及本电子讲义补充内容进行150-500字的摘要说明**</mark>，可利用HTML文内超连结连到同文档其他的笔记内容\n",
    "     * 互评时会要求提交自己文档的改动比较，以方便同学观看你的改动范围及内容\n",
    "  * 本周加分项，以抢快为主，<mark>1人最多只能抢1项</mark>，需以指定的url进行数据挖掘并输出excel，抢快时间<mark>首先</mark>以该代码在Github的提交时间为准，若两人Github提交时间相差不到3分钟，则以<mark>再以</mark>QQ群@老师时间为判断\n",
    "      * C-3 期末总分加1\n",
    "      * C-4 期末总分加2\n",
    "      * C-5 期末总分加5\n",
    "-----\n",
    "![for humans](https://requests-html.kennethreitz.org/_static/requests-html-logo.png)\n",
    "\n",
    "## 复习\n",
    "\n",
    "复习：上周内容，总观使用\n",
    "\n",
    "* requests-html  丶\n",
    "* pd.read_html 丶及\n",
    "* requests + lxml \n",
    "\n",
    "的Web数据挖掘内容，最主要包括以下前后的主要数据挖掘内容\n",
    "\n",
    "1. 使用 HTTP 发送请求（HTTP request）\n",
    "2. 判断 HTTP 及状态（HTTP status code） 及 HTTP 响应（HTTP response）是否正常\n",
    "3. 执行 HTML 解析（parse HTML），通常使用 xpath or CSS selector 选择器\n",
    "\n",
    "<br/>\n",
    "<br/>\n",
    "\n",
    "-----\n",
    "![Xpath Axis](http://krum.rz.uni-mannheim.de/inet-2005/images/xpath-axis.gif)\n",
    "\n",
    "\n",
    "## 本周内容及学习目标\n",
    "\n",
    "本周内容聚焦在第3.部分\n",
    "挑选比较容易Web数据挖掘的网页（i.e. 比较没有以上1. 及2. 的坑），学习解决以下挑战：\n",
    "\n",
    "1. 使用 requests-html 爬取并存取网页文字档，查找[requests-html 中文文档](https://cncert.github.io/requests-html-doc-cn/#/)\n",
    "2. 熟悉 [xpath 语法](https://www.w3cschool.cn/xpath/xpath-syntax.html)丶[xpath 节点](https://www.w3cschool.cn/xpath/xpath-nodes.html)\n",
    "3. 使用 [xpath cheatsheet](https://devhints.io/xpath)\n",
    "  * 在 Chrome Inspector 使用\n",
    "  * 在 requests-html (Python) 使用\n",
    "4. 简易使用 [pd.DataFrame]()\n",
    "\n",
    "学生将实践\n",
    "* 解析简单HTML页面\n",
    "* 使用xpath（不挑greedy vs. 及挑剔ungreedy的策略）\n",
    "* 获取标签tags丶属性attributes丶值values"
   ]
  },
  {
   "cell_type": "code",
   "execution_count": 19,
   "metadata": {},
   "outputs": [
    {
     "data": {
      "text/html": [
       "<style>\n",
       "/* 本电子讲义使用之CSS */\n",
       "div.code_cell {\n",
       "    background-color: #e5f1fe;\n",
       "}\n",
       "div.cell.selected {\n",
       "    background-color: #effee2;\n",
       "    font-size: 2rem;\n",
       "    line-height: 2.4rem;\n",
       "}\n",
       "div.cell.selected .rendered_html table {\n",
       "    font-size: 2rem !important;\n",
       "    line-height: 2.4rem !important;\n",
       "}\n",
       ".rendered_html pre code {\n",
       "    background-color: #C4E4ff;   \n",
       "    padding: 2px 25px;\n",
       "}\n",
       ".rendered_html pre {\n",
       "    background-color: #99c9ff;\n",
       "}\n",
       "div.code_cell .CodeMirror {\n",
       "    font-size: 2rem !important;\n",
       "    line-height: 2.4rem !important;\n",
       "}\n",
       ".rendered_html img, .rendered_html svg {\n",
       "    max-width: 35%;\n",
       "    height: auto;\n",
       "    float: right;\n",
       "}\n",
       "/* Gradient transparent - color - transparent */\n",
       "hr {\n",
       "    border: 0;\n",
       "    border-bottom: 1px dashed #ccc;\n",
       "}\n",
       ".emoticon{\n",
       "    font-size: 5rem;\n",
       "    line-height: 4.4rem;\n",
       "    text-align: center;\n",
       "    vertical-align: middle;\n",
       "}\n",
       "</style>\n"
      ],
      "text/plain": [
       "<IPython.core.display.HTML object>"
      ]
     },
     "metadata": {},
     "output_type": "display_data"
    }
   ],
   "source": [
    "%%html\n",
    "<style>\n",
    "/* 本电子讲义使用之CSS */\n",
    "div.code_cell {\n",
    "    background-color: #e5f1fe;\n",
    "}\n",
    "div.cell.selected {\n",
    "    background-color: #effee2;\n",
    "    font-size: 2rem;\n",
    "    line-height: 2.4rem;\n",
    "}\n",
    "div.cell.selected .rendered_html table {\n",
    "    font-size: 2rem !important;\n",
    "    line-height: 2.4rem !important;\n",
    "}\n",
    ".rendered_html pre code {\n",
    "    background-color: #C4E4ff;   \n",
    "    padding: 2px 25px;\n",
    "}\n",
    ".rendered_html pre {\n",
    "    background-color: #99c9ff;\n",
    "}\n",
    "div.code_cell .CodeMirror {\n",
    "    font-size: 2rem !important;\n",
    "    line-height: 2.4rem !important;\n",
    "}\n",
    ".rendered_html img, .rendered_html svg {\n",
    "    max-width: 35%;\n",
    "    height: auto;\n",
    "    float: right;\n",
    "}\n",
    "/* Gradient transparent - color - transparent */\n",
    "hr {\n",
    "    border: 0;\n",
    "    border-bottom: 1px dashed #ccc;\n",
    "}\n",
    ".emoticon{\n",
    "    font-size: 5rem;\n",
    "    line-height: 4.4rem;\n",
    "    text-align: center;\n",
    "    vertical-align: middle;\n",
    "}\n",
    "</style>"
   ]
  },
  {
   "cell_type": "code",
   "execution_count": 20,
   "metadata": {},
   "outputs": [],
   "source": [
    "# 基本模块\n",
    "import pandas as pd\n",
    "from requests_html import HTMLSession"
   ]
  },
  {
   "cell_type": "markdown",
   "metadata": {},
   "source": [
    "# requsts-html\n",
    "学生将实践\n",
    "* 解析简单HTML页面\n",
    "\n",
    "使用 requests-html 爬取并存取网页文字档，查找[requests-html 中文文档](https://cncert.github.io/requests-html-doc-cn/#/)\n",
    "\n",
    "* API 文档\n",
    "  * HTML类\n",
    "  * Element类\n",
    "  * HTML Sessions (应正名为HTTP Sessions)  \n",
    "* [原文档](https://requests-html.kennethreitz.org//_modules/requests_html.html)\n",
    "\n",
    "要点：HTTP 和 HTML 的分工与合作"
   ]
  },
  {
   "cell_type": "markdown",
   "metadata": {},
   "source": [
    "## HTML类\n",
    "\n",
    "HTML文本的基本使用及保存备用"
   ]
  },
  {
   "cell_type": "code",
   "execution_count": 1,
   "metadata": {},
   "outputs": [
    {
     "ename": "NameError",
     "evalue": "name 'HTMLSession' is not defined",
     "output_type": "error",
     "traceback": [
      "\u001b[1;31m---------------------------------------------------------------------------\u001b[0m",
      "\u001b[1;31mNameError\u001b[0m                                 Traceback (most recent call last)",
      "\u001b[1;32m<ipython-input-1-9ded88c93827>\u001b[0m in \u001b[0;36m<module>\u001b[1;34m\u001b[0m\n\u001b[0;32m      5\u001b[0m }\n\u001b[0;32m      6\u001b[0m \u001b[1;33m\u001b[0m\u001b[0m\n\u001b[1;32m----> 7\u001b[1;33m \u001b[0msession\u001b[0m \u001b[1;33m=\u001b[0m \u001b[0mHTMLSession\u001b[0m\u001b[1;33m(\u001b[0m\u001b[1;33m)\u001b[0m\u001b[1;33m\u001b[0m\u001b[1;33m\u001b[0m\u001b[0m\n\u001b[0m\u001b[0;32m      8\u001b[0m \u001b[0mr\u001b[0m \u001b[1;33m=\u001b[0m \u001b[0msession\u001b[0m\u001b[1;33m.\u001b[0m\u001b[0mget\u001b[0m\u001b[1;33m(\u001b[0m\u001b[1;34m\"http://www.nfu.edu.cn/index.php/home/article/search.html\"\u001b[0m\u001b[1;33m,\u001b[0m \u001b[0mparams\u001b[0m\u001b[1;33m=\u001b[0m\u001b[0mpayload\u001b[0m\u001b[1;33m)\u001b[0m\u001b[1;33m\u001b[0m\u001b[1;33m\u001b[0m\u001b[0m\n",
      "\u001b[1;31mNameError\u001b[0m: name 'HTMLSession' is not defined"
     ]
    }
   ],
   "source": [
    "# A1  nfu.edu.cn 搜 文学与传媒学院 保存备用\n",
    "payload = {\n",
    "    \"keyword\":\"文学与传媒学院\",\n",
    "    \"p\":\"1\"\n",
    "}\n",
    "\n",
    "session = HTMLSession()\n",
    "r = session.get(\"http://www.nfu.edu.cn/index.php/home/article/search.html\", params=payload)"
   ]
  },
  {
   "cell_type": "code",
   "execution_count": 2,
   "metadata": {},
   "outputs": [
    {
     "ename": "NameError",
     "evalue": "name 'r' is not defined",
     "output_type": "error",
     "traceback": [
      "\u001b[1;31m---------------------------------------------------------------------------\u001b[0m",
      "\u001b[1;31mNameError\u001b[0m                                 Traceback (most recent call last)",
      "\u001b[1;32m<ipython-input-2-6c0a1974a972>\u001b[0m in \u001b[0;36m<module>\u001b[1;34m\u001b[0m\n\u001b[0;32m      2\u001b[0m \u001b[1;31m# r.html  (HTML 元素/标签)\u001b[0m\u001b[1;33m\u001b[0m\u001b[1;33m\u001b[0m\u001b[1;33m\u001b[0m\u001b[0m\n\u001b[0;32m      3\u001b[0m \u001b[1;33m\u001b[0m\u001b[0m\n\u001b[1;32m----> 4\u001b[1;33m \u001b[0mr\u001b[0m\u001b[1;33m.\u001b[0m\u001b[0mhtml\u001b[0m\u001b[1;33m.\u001b[0m\u001b[0mhtml\u001b[0m\u001b[1;33m\u001b[0m\u001b[1;33m\u001b[0m\u001b[0m\n\u001b[0m\u001b[0;32m      5\u001b[0m \u001b[1;31m# 可存网页为文字档\u001b[0m\u001b[1;33m\u001b[0m\u001b[1;33m\u001b[0m\u001b[1;33m\u001b[0m\u001b[0m\n",
      "\u001b[1;31mNameError\u001b[0m: name 'r' is not defined"
     ]
    }
   ],
   "source": [
    "#  A2  nfu.edu.cn 搜 文学与传媒学院 r.html\n",
    "# r.html  (HTML 元素/标签) \n",
    "\n",
    "r.html.html  \n",
    "# 可存网页为文字档"
   ]
  },
  {
   "cell_type": "code",
   "execution_count": 5,
   "metadata": {
    "collapsed": true
   },
   "outputs": [],
   "source": [
    "# A3  nfu.edu.cn 搜 文学与传媒学院 保存备用\n",
    "\n",
    "with open (\"20春_Web数据挖掘_week02_nfu_文学与传媒学院.html\", encoding = \"utf8\", mode = \"w\") as fp:\n",
    "    fp.write(r.html.html)"
   ]
  },
  {
   "cell_type": "code",
   "execution_count": 6,
   "metadata": {
    "collapsed": true
   },
   "outputs": [],
   "source": [
    "# A4  复习 读保存备用的任何文字档\n",
    "\n",
    "with open (\"20春_Web数据挖掘_week02_nfu_文学与传媒学院.html\", encoding = \"utf8\", mode = \"r\") as fp:\n",
    "    html_load = fp.read()"
   ]
  },
  {
   "cell_type": "markdown",
   "metadata": {},
   "source": [
    "## 解析文本\n",
    "![HTML head body](https://rlv.zcache.com/head_body_t_shirt-rd222a2cce3704f3b87fae4ee0fb73744_k2gm8_307.jpg)\n",
    "HTML文本的解析\n",
    "\n",
    "```python\n",
    "\n",
    "parsed = requests_html.soup_parse(html_load)\n",
    "```\n",
    "\n",
    "```python\n",
    "\n",
    "import requests_html\n",
    "# parsed = requests_html.soup_parse(html_load)\n",
    "from requests_html import soup_parse\n",
    "# parsed = soup_parse(html_load)\n",
    "```\n",
    "\n"
   ]
  },
  {
   "cell_type": "code",
   "execution_count": 7,
   "metadata": {
    "collapsed": true
   },
   "outputs": [],
   "source": [
    "# A5  前方高能 HTML文本的解析\n",
    "\n",
    "import requests_html\n",
    "parsed = requests_html.soup_parse(html_load)\n",
    "解析后 = requests_html.soup_parse(html_load)"
   ]
  },
  {
   "cell_type": "code",
   "execution_count": 8,
   "metadata": {},
   "outputs": [
    {
     "data": {
      "text/plain": [
       "<Element html at 0x2114acef7c8>"
      ]
     },
     "execution_count": 8,
     "metadata": {},
     "output_type": "execute_result"
    }
   ],
   "source": [
    "解析后   # <html> 元素标签"
   ]
  },
  {
   "cell_type": "code",
   "execution_count": 9,
   "metadata": {},
   "outputs": [
    {
     "data": {
      "text/plain": [
       "[<Element body at 0x2114acefb38>]"
      ]
     },
     "execution_count": 9,
     "metadata": {},
     "output_type": "execute_result"
    }
   ],
   "source": [
    "解析后.xpath('body')"
   ]
  },
  {
   "cell_type": "code",
   "execution_count": 10,
   "metadata": {},
   "outputs": [
    {
     "data": {
      "text/plain": [
       "[<Element head at 0x2114aceb048>]"
      ]
     },
     "execution_count": 10,
     "metadata": {},
     "output_type": "execute_result"
    }
   ],
   "source": [
    "解析后.xpath('head')"
   ]
  },
  {
   "cell_type": "code",
   "execution_count": 11,
   "metadata": {},
   "outputs": [
    {
     "data": {
      "text/plain": [
       "[<Element a at 0x2114aceb4f8>,\n",
       " <Element a at 0x2114aceb5e8>,\n",
       " <Element a at 0x2114aceb638>,\n",
       " <Element a at 0x2114aceb688>,\n",
       " <Element a at 0x2114aceb6d8>,\n",
       " <Element a at 0x2114aceb728>,\n",
       " <Element a at 0x2114aceb778>,\n",
       " <Element a at 0x2114aceb7c8>,\n",
       " <Element a at 0x2114aceb818>,\n",
       " <Element a at 0x2114aceb868>,\n",
       " <Element a at 0x2114aceb8b8>,\n",
       " <Element a at 0x2114aceb908>,\n",
       " <Element a at 0x2114aceb958>,\n",
       " <Element a at 0x2114aceb9a8>,\n",
       " <Element a at 0x2114aceb9f8>,\n",
       " <Element a at 0x2114aceba48>,\n",
       " <Element a at 0x2114aceba98>,\n",
       " <Element a at 0x2114acebae8>,\n",
       " <Element a at 0x2114acebb38>,\n",
       " <Element a at 0x2114acebb88>,\n",
       " <Element a at 0x2114acebbd8>,\n",
       " <Element a at 0x2114acebc28>,\n",
       " <Element a at 0x2114acebc78>,\n",
       " <Element a at 0x2114acebcc8>,\n",
       " <Element a at 0x2114acebd18>,\n",
       " <Element a at 0x2114acebd68>,\n",
       " <Element a at 0x2114acebdb8>,\n",
       " <Element a at 0x2114acebe08>,\n",
       " <Element a at 0x2114acebe58>,\n",
       " <Element a at 0x2114acebea8>,\n",
       " <Element a at 0x2114acebef8>,\n",
       " <Element a at 0x2114acebf48>,\n",
       " <Element a at 0x2114acebf98>,\n",
       " <Element a at 0x2114ace8048>,\n",
       " <Element a at 0x2114ace8098>,\n",
       " <Element a at 0x2114ace80e8>,\n",
       " <Element a at 0x2114ace8138>,\n",
       " <Element a at 0x2114ace8188>,\n",
       " <Element a at 0x2114ace81d8>,\n",
       " <Element a at 0x2114ace8228>,\n",
       " <Element a at 0x2114ace8278>,\n",
       " <Element a at 0x2114ace82c8>,\n",
       " <Element a at 0x2114ace8318>,\n",
       " <Element a at 0x2114ace8368>,\n",
       " <Element a at 0x2114ace83b8>,\n",
       " <Element a at 0x2114ace8408>,\n",
       " <Element a at 0x2114ace8458>,\n",
       " <Element a at 0x2114ace84a8>,\n",
       " <Element a at 0x2114ace84f8>,\n",
       " <Element a at 0x2114ace8548>,\n",
       " <Element a at 0x2114ace8598>,\n",
       " <Element a at 0x2114ace85e8>,\n",
       " <Element a at 0x2114ace8638>,\n",
       " <Element a at 0x2114ace8688>,\n",
       " <Element a at 0x2114ace86d8>,\n",
       " <Element a at 0x2114ace8728>,\n",
       " <Element a at 0x2114ace8778>,\n",
       " <Element a at 0x2114ace87c8>,\n",
       " <Element a at 0x2114ace8818>,\n",
       " <Element a at 0x2114ace8868>,\n",
       " <Element a at 0x2114ace88b8>,\n",
       " <Element a at 0x2114ace8908>,\n",
       " <Element a at 0x2114ace8958>,\n",
       " <Element a at 0x2114ace89a8>,\n",
       " <Element a at 0x2114ace89f8>,\n",
       " <Element a at 0x2114ace8a48>,\n",
       " <Element a at 0x2114ace8a98>,\n",
       " <Element a at 0x2114ace8ae8>,\n",
       " <Element a at 0x2114ace8b38>,\n",
       " <Element a at 0x2114ace8b88>,\n",
       " <Element a at 0x2114ace8bd8>,\n",
       " <Element a at 0x2114ace8c28>,\n",
       " <Element a at 0x2114ace8c78>,\n",
       " <Element a at 0x2114ace8cc8>,\n",
       " <Element a at 0x2114ace8d18>,\n",
       " <Element a at 0x2114ace8d68>,\n",
       " <Element a at 0x2114ace8db8>]"
      ]
     },
     "execution_count": 11,
     "metadata": {},
     "output_type": "execute_result"
    }
   ],
   "source": [
    "解析后.xpath('//a')  # greedy 所有<html> 元素标签"
   ]
  },
  {
   "cell_type": "code",
   "execution_count": 12,
   "metadata": {},
   "outputs": [
    {
     "data": {
      "text/plain": [
       "['文学与传媒学院教师获邀参加2020年U40中澳暑期工作营及国际学术研讨会',\n",
       " '文学与传媒学院2019年学术研讨会暨总结大会顺利召开',\n",
       " '展现当代青年的迷惘与奋进——我校文学与传媒学院大型原创舞台剧《春至》圆满落幕',\n",
       " '文学与传媒学院考研座谈暨2020年考研交流答疑会圆满结束',\n",
       " '文学与传媒学院教师招聘启事',\n",
       " '创意无限，未来可期——文学与传媒学院青马工程第四讲暨闭营仪式顺利举行',\n",
       " '垃圾分类我先行——文学与传媒学院“分门别类，谁与争锋”垃圾分类趣味知识竞赛决赛顺利举行',\n",
       " '以梦为马，不负韶华——文学与传媒学院2019级新生开学典礼圆满结束',\n",
       " '文学与传媒学院学子在全国高校数字艺术设计大赛中斩获大奖',\n",
       " '文学与传媒学院学子在第七届中国大学生公共关系策划大赛中喜获佳绩',\n",
       " '倾心之作，致敬经典——文学与传媒学院紫阳戏剧社《倾城之恋》话剧展演圆满落幕',\n",
       " '毕业季 | 今朝有离别，青春不散场 ——文学与传媒学院2019届毕业生毕业季系列活动有序开展']"
      ]
     },
     "execution_count": 12,
     "metadata": {},
     "output_type": "execute_result"
    }
   ],
   "source": [
    "解析后.xpath('//*[@class=\"news_title\"]//a/@title')"
   ]
  },
  {
   "cell_type": "markdown",
   "metadata": {},
   "source": [
    "## 直接使用\n",
    "\n",
    "```python\n",
    "r.html.xpath()\n",
    "```\n",
    "\n",
    "你来试试?"
   ]
  },
  {
   "cell_type": "code",
   "execution_count": 13,
   "metadata": {
    "collapsed": true
   },
   "outputs": [
    {
     "name": "stdout",
     "output_type": "stream",
     "text": [
      "['文学与传媒学院教师获邀参加2020年U40中澳暑期工作营及国际学术研讨会', '文学与传媒学院2019年学术研讨会暨总结大会顺利召开', '展现当代青年的迷惘与奋进——我校文学与传媒学院大型原创舞台剧《春至》圆满落幕', '文学与传媒学院考研座谈暨2020年考研交流答疑会圆满结束', '文学与传媒学院教师招聘启事', '创意无限，未来可期——文学与传媒学院青马工程第四讲暨闭营仪式顺利举行', '垃圾分类我先行——文学与传媒学院“分门别类，谁与争锋”垃圾分类趣味知识竞赛决赛顺利举行', '以梦为马，不负韶华——文学与传媒学院2019级新生开学典礼圆满结束', '文学与传媒学院学子在全国高校数字艺术设计大赛中斩获大奖', '文学与传媒学院学子在第七届中国大学生公共关系策划大赛中喜获佳绩', '倾心之作，致敬经典——文学与传媒学院紫阳戏剧社《倾城之恋》话剧展演圆满落幕', '毕业季 | 今朝有离别，青春不散场 ——文学与传媒学院2019届毕业生毕业季系列活动有序开展']\n",
      "['/index.php/home/article/search_detail/id/6363.html', '/index.php/home/article/search_detail/id/6366.html', '/index.php/home/article/search_detail/id/6318.html', '/index.php/home/article/search_detail/id/6154.html', '/index.php/home/article/search_detail/id/5348.html', '/index.php/home/article/search_detail/id/6016.html', '/index.php/home/article/search_detail/id/6019.html', '/index.php/home/article/search_detail/id/5794.html', '/index.php/home/article/search_detail/id/5776.html', '/index.php/home/article/search_detail/id/5777.html', '/index.php/home/article/search_detail/id/5642.html', '/index.php/home/article/search_detail/id/5647.html']\n",
      "['2020-01-06', '2020-01-06', '2019-12-20', '2019-11-22', '2019-11-05', '2019-11-04', '2019-11-04', '2019-09-16', '2019-09-09', '2019-09-09', '2019-06-24', '2019-06-24']\n"
     ]
    }
   ],
   "source": [
    "# A6  直接使用 requests-html\n",
    "payload = {\n",
    "    \"keyword\":\"文学与传媒学院\",\n",
    "    \"p\":\"1\"\n",
    "}\n",
    "\n",
    "session = HTMLSession()\n",
    "r = session.get(\"http://www.nfu.edu.cn/index.php/home/article/search.html\", params=payload)\n",
    "\n",
    "# 保存备用 (好习惯, 最好存一个地方)\n",
    "with open (\"20春_Web数据挖掘_week02_nfu_文学与传媒学院.html\", encoding = \"utf8\", mode = \"w\") as fp:\n",
    "    fp.write(r.html.html)\n",
    "\n",
    "# 解析文本直接使用\n",
    "print (r.html.xpath('//*[@class=\"news_title\"]/a/@title'))\n",
    "print (r.html.xpath('//*[@class=\"news_title\"]/a/@href'))\n",
    "print (r.html.xpath('//font[@class=\"right-more\"]/text()'))"
   ]
  },
  {
   "cell_type": "markdown",
   "metadata": {},
   "source": [
    "# xpath\n",
    "\n",
    "学生将实践\n",
    "\n",
    "* r.html 如 庖丁解牛\n",
    "* r.html.xapth() 挑牛肉吃\n",
    "  * **元素/标签如筋骨，值和文本通常才有牛肉**\n",
    "  * html以元素/标签构成\n",
    "  * 值和文本不单独存在，必需依附元素/标签\n",
    "* 使用xpath（不挑greedy vs. 及挑剔ungreedy的策略）\n",
    "\n",
    "* 获取标签tags丶属性attributes丶值values\n",
    "  * 掌握Chrome Inspector 多种颜色区分\n",
    "      * 元素/标签 elements/tags  ?色\n",
    "      * 属性attributes  ?色\n",
    "      * 值values ?色\n",
    "      * 文本 ?色\n",
    "      * HTML注解 ?色 "
   ]
  },
  {
   "cell_type": "markdown",
   "metadata": {},
   "source": [
    "## 取值及文本"
   ]
  },
  {
   "cell_type": "code",
   "execution_count": 14,
   "metadata": {},
   "outputs": [
    {
     "data": {
      "text/plain": [
       "['文学与传媒学院教师获邀参加2020年U40中澳暑期工作营及国际学术研讨会',\n",
       " '文学与传媒学院2019年学术研讨会暨总结大会顺利召开',\n",
       " '展现当代青年的迷惘与奋进——我校文学与传媒学院大型原创舞台剧《春至》圆满落幕',\n",
       " '文学与传媒学院考研座谈暨2020年考研交流答疑会圆满结束',\n",
       " '文学与传媒学院教师招聘启事',\n",
       " '创意无限，未来可期——文学与传媒学院青马工程第四讲暨闭营仪式顺利举行',\n",
       " '垃圾分类我先行——文学与传媒学院“分门别类，谁与争锋”垃圾分类趣味知识竞赛决赛顺利举行',\n",
       " '以梦为马，不负韶华——文学与传媒学院2019级新生开学典礼圆满结束',\n",
       " '文学与传媒学院学子在全国高校数字艺术设计大赛中斩获大奖',\n",
       " '文学与传媒学院学子在第七届中国大学生公共关系策划大赛中喜获佳绩',\n",
       " '倾心之作，致敬经典——文学与传媒学院紫阳戏剧社《倾城之恋》话剧展演圆满落幕',\n",
       " '毕业季 | 今朝有离别，青春不散场 ——文学与传媒学院2019届毕业生毕业季系列活动有序开展']"
      ]
     },
     "execution_count": 14,
     "metadata": {},
     "output_type": "execute_result"
    }
   ],
   "source": [
    "# B-A-1 使用 取值 观察xpath最后的内容\n",
    "解析后.xpath('//div[@class=\"news_title\"]/a/@title')"
   ]
  },
  {
   "cell_type": "code",
   "execution_count": 15,
   "metadata": {
    "collapsed": true
   },
   "outputs": [
    {
     "data": {
      "text/plain": [
       "['教师获邀参加2020年U40中澳暑期工作营及国际学术研讨会',\n",
       " '2019年学术研讨会暨总结大会顺利召开',\n",
       " '展现当代青年的迷惘与奋进——我校',\n",
       " '大型原创舞台剧《春至》圆满落幕',\n",
       " '考研座谈暨2020年考研交流答疑会圆满结束',\n",
       " '教师招聘启事',\n",
       " '创意无限，未来可期——',\n",
       " '青马工程第四讲暨闭营仪式顺利举行',\n",
       " '垃圾分类我先行——',\n",
       " '“分门别类，谁与争锋”垃圾分类趣味知识竞赛决赛顺利举行',\n",
       " '以梦为马，不负韶华——',\n",
       " '2019级新生开学典礼圆满结束',\n",
       " '学子在全国高校数字艺术设计大赛中斩获大奖',\n",
       " '学子在第七届中国大学生公共关系策划大赛中喜获佳绩',\n",
       " '倾心之作，致敬经典——',\n",
       " '紫阳戏剧社《倾城之恋》话剧展演圆满落幕',\n",
       " '毕业季 | 今朝有离别，青春不散场 ——',\n",
       " '2019届毕业生毕业季系列活动有序开展']"
      ]
     },
     "execution_count": 15,
     "metadata": {},
     "output_type": "execute_result"
    }
   ],
   "source": [
    "# B-A-2 使用 文本\n",
    "解析后.xpath('//div[@class=\"news_title\"]/a/text()')"
   ]
  },
  {
   "cell_type": "code",
   "execution_count": 16,
   "metadata": {
    "collapsed": true
   },
   "outputs": [],
   "source": [
    "# B-A-3 該你了\n",
    "# 你是否能解釋為什麼 B1 和 B2 結果不一樣 ?"
   ]
  },
  {
   "cell_type": "markdown",
   "metadata": {},
   "source": [
    "## 数据科学家使用xpath的角度\n",
    "![](https://qxf2.com/blog/wp-content/uploads/2015/12/Table.png)\n",
    "* 不挑greedy的策略\n",
    "    * 求全求不漏\n",
    "    * 可能有垃圾\n",
    "    * 使用 // （后代descendant） 而不用  / 子女（children）\n",
    "    * 使用 **任意**元素/标签  而不用  **指定**元素/标签\n",
    "* 挑剔ungreedy的策略\n",
    "    * 求准求数据整齐\n",
    "    * 可能有漏数据\n",
    "    * 使用  / 子女（children） 而不用  // （后代descendant）\n",
    "    * 使用 **指定**元素/标签  而不用  **任意**元素/标签 "
   ]
  },
  {
   "cell_type": "markdown",
   "metadata": {},
   "source": [
    "### 不挑greedy"
   ]
  },
  {
   "cell_type": "code",
   "execution_count": 17,
   "metadata": {},
   "outputs": [
    {
     "data": {
      "text/plain": [
       "[<Element 'a' href='/index.php' target='_blank' title='中山大学南方学院'>,\n",
       " <Element 'a' href='http://oa.nfu.edu.cn/' target='_blank'>,\n",
       " <Element 'a' href='http://en.nfu.edu.cn/'>,\n",
       " <Element 'a' href='javascript:;' id='search_btn'>,\n",
       " <Element 'a' href='/index.php'>,\n",
       " <Element 'a' href='/index.php/home/article/index/cid/29.html' target='_blank'>,\n",
       " <Element 'a' href='/index.php/home/article/index/cid/29.html' target='_self'>,\n",
       " <Element 'a' href='/index.php/home/article/index/cid/30.html' target='_blank'>,\n",
       " <Element 'a' href='/index.php/home/article/index/cid/135.html' target='_self'>,\n",
       " <Element 'a' href='/index.php/home/article/index/cid/34.html' target='_blank'>,\n",
       " <Element 'a' href='/index.php/home/article/index/cid/104.html' target='_self'>,\n",
       " <Element 'a' href='/index.php/home/article/index/cid/2.html' target='_self'>,\n",
       " <Element 'a' href='/index.php/home/article/index/cid/61.html' target='_blank'>,\n",
       " <Element 'a' href='/index.php/home/article/index/cid/61.html' target='_self'>,\n",
       " <Element 'a' href='/index.php/home/article/index/cid/36.html' target='_self'>,\n",
       " <Element 'a' href='/index.php/home/article/index/cid/165.html' target='_self'>,\n",
       " <Element 'a' href='/index.php/home/article/index/cid/31.html' target='_blank'>,\n",
       " <Element 'a' href='/index.php/home/article/index/cid/31.html' target='_blank'>,\n",
       " <Element 'a' href='/index.php/home/article/index/cid/163.html' target='_self'>,\n",
       " <Element 'a' href='/index.php/home/article/index/cid/164.html' target='_self'>,\n",
       " <Element 'a' href='/index.php/home/article/index/cid/106.html' target='_blank'>,\n",
       " <Element 'a' href='/index.php/home/article/index/cid/106.html' target='_blank'>,\n",
       " <Element 'a' href='/index.php/home/article/index/cid/127.html' target='_blank'>,\n",
       " <Element 'a' href='/index.php/home/article/index/cid/107.html' target='_blank'>,\n",
       " <Element 'a' href='/index.php/home/article/index/cid/49.html' target='_blank'>,\n",
       " <Element 'a' href='/index.php/home/article/index/cid/49.html' target='_blank'>,\n",
       " <Element 'a' href='/index.php/home/article/index/cid/129.html' target='_self'>,\n",
       " <Element 'a' href='/index.php/home/article/index/cid/50.html' target='_blank'>,\n",
       " <Element 'a' href='/index.php/home/article/index/cid/79.html' target='_blank'>,\n",
       " <Element 'a' href='/index.php/home/article/index/cid/79.html' target='_blank'>,\n",
       " <Element 'a' href='/index.php/home/article/index/cid/80.html' target='_blank'>,\n",
       " <Element 'a' href='/index.php/home/article/index/cid/159.html' target='_blank'>,\n",
       " <Element 'a' href='/index.php/home/article/index/cid/159.html' target='_blank'>,\n",
       " <Element 'a' href='/index.php/home/article/index/cid/161.html' target='_blank'>,\n",
       " <Element 'a' href='/index.php/home/article/index/cid/44.html' target='_blank'>,\n",
       " <Element 'a' href='/index.php/home/article/index/cid/44.html' target='_blank'>,\n",
       " <Element 'a' href='/index.php/home/article/index/cid/45.html' target='_blank'>,\n",
       " <Element 'a' href='/index.php/home/article/index/cid/32.html' target='_blank'>,\n",
       " <Element 'a' href='/index.php/home/article/index/cid/32.html' target='_blank'>,\n",
       " <Element 'a' href='/index.php/home/article/index/cid/105.html' target='_self'>,\n",
       " <Element 'a' href='/index.php/home/article/index/cid/87.html' target='_self'>,\n",
       " <Element 'a' href='/index.php/home/article/index/cid/51.html' target='_blank'>,\n",
       " <Element 'a' href='/index.php/home/article/index/cid/82.html' target='_self'>,\n",
       " <Element 'a' href='/index.php'>,\n",
       " <Element 'a' href='/index.php/home/article/search_detail/id/6363.html' target='_blank' title='文学与传媒学院教师获邀参加2020年U40中澳暑期工作营及国际学术研讨会'>,\n",
       " <Element 'a' href='/index.php/home/article/search_detail/id/6366.html' target='_blank' title='文学与传媒学院2019年学术研讨会暨总结大会顺利召开'>,\n",
       " <Element 'a' href='/index.php/home/article/search_detail/id/6318.html' target='_blank' title='展现当代青年的迷惘与奋进——我校文学与传媒学院大型原创舞台剧《春至》圆满落幕'>,\n",
       " <Element 'a' href='/index.php/home/article/search_detail/id/6154.html' target='_blank' title='文学与传媒学院考研座谈暨2020年考研交流答疑会圆满结束'>,\n",
       " <Element 'a' href='/index.php/home/article/search_detail/id/5348.html' target='_blank' title='文学与传媒学院教师招聘启事'>,\n",
       " <Element 'a' href='/index.php/home/article/search_detail/id/6016.html' target='_blank' title='创意无限，未来可期——文学与传媒学院青马工程第四讲暨闭营仪式顺利举行'>,\n",
       " <Element 'a' href='/index.php/home/article/search_detail/id/6019.html' target='_blank' title='垃圾分类我先行——文学与传媒学院“分门别类，谁与争锋”垃圾分类趣味知识竞赛决赛顺利举行'>,\n",
       " <Element 'a' href='/index.php/home/article/search_detail/id/5794.html' target='_blank' title='以梦为马，不负韶华——文学与传媒学院2019级新生开学典礼圆满结束'>,\n",
       " <Element 'a' href='/index.php/home/article/search_detail/id/5776.html' target='_blank' title='文学与传媒学院学子在全国高校数字艺术设计大赛中斩获大奖'>,\n",
       " <Element 'a' href='/index.php/home/article/search_detail/id/5777.html' target='_blank' title='文学与传媒学院学子在第七届中国大学生公共关系策划大赛中喜获佳绩'>,\n",
       " <Element 'a' href='/index.php/home/article/search_detail/id/5642.html' target='_blank' title='倾心之作，致敬经典——文学与传媒学院紫阳戏剧社《倾城之恋》话剧展演圆满落幕'>,\n",
       " <Element 'a' href='/index.php/home/article/search_detail/id/5647.html' target='_blank' title='毕业季 | 今朝有离别，青春不散场 ——文学与传媒学院2019届毕业生毕业季系列活动有序开展'>,\n",
       " <Element 'a' class=('num',) href='/index.php/home/article/search/keyword/%E6%96%87%E5%AD%A6%E4%B8%8E%E4%BC%A0%E5%AA%92%E5%AD%A6%E9%99%A2/p/2.html'>,\n",
       " <Element 'a' class=('num',) href='/index.php/home/article/search/keyword/%E6%96%87%E5%AD%A6%E4%B8%8E%E4%BC%A0%E5%AA%92%E5%AD%A6%E9%99%A2/p/3.html'>,\n",
       " <Element 'a' class=('num',) href='/index.php/home/article/search/keyword/%E6%96%87%E5%AD%A6%E4%B8%8E%E4%BC%A0%E5%AA%92%E5%AD%A6%E9%99%A2/p/4.html'>,\n",
       " <Element 'a' class=('num',) href='/index.php/home/article/search/keyword/%E6%96%87%E5%AD%A6%E4%B8%8E%E4%BC%A0%E5%AA%92%E5%AD%A6%E9%99%A2/p/5.html'>,\n",
       " <Element 'a' class=('num',) href='/index.php/home/article/search/keyword/%E6%96%87%E5%AD%A6%E4%B8%8E%E4%BC%A0%E5%AA%92%E5%AD%A6%E9%99%A2/p/6.html'>,\n",
       " <Element 'a' class=('num',) href='/index.php/home/article/search/keyword/%E6%96%87%E5%AD%A6%E4%B8%8E%E4%BC%A0%E5%AA%92%E5%AD%A6%E9%99%A2/p/7.html'>,\n",
       " <Element 'a' class=('next',) href='/index.php/home/article/search/keyword/%E6%96%87%E5%AD%A6%E4%B8%8E%E4%BC%A0%E5%AA%92%E5%AD%A6%E9%99%A2/p/2.html'>,\n",
       " <Element 'a' href='http://www.moe.gov.cn/' target='_blank' title='教育部'>,\n",
       " <Element 'a' href='http://www.gz.gov.cn/' target='_blank' title='广州市政府'>,\n",
       " <Element 'a' href='http://www.cnki.net/' target='_blank' title='中国知网'>,\n",
       " <Element 'a' href='http://edu.gd.gov.cn' target='_blank' title='广东省教育厅'>,\n",
       " <Element 'a' href='http://www.gdpr.com/' target='_blank' title='珠江投资'>,\n",
       " <Element 'a' href='http://journal.nfu.edu.cn/CN/volumn/home.shtml' target='_blank' title='南方论丛'>,\n",
       " <Element 'a' href='http://www.sysu.edu.cn/' target='_blank' title='中山大学 '>,\n",
       " <Element 'a' href='http://www.nfu.edu.cn/index.php/home/article/index/cid/136.html' target='_blank' title='珠江教育联盟'>,\n",
       " <Element 'a' href='/index.php/home/article/link.html'>,\n",
       " <Element 'a' href='http://www.unsun.net' target='_blank'>,\n",
       " <Element 'a' target='_blank' href='http://www.beian.miit.gov.cn'>,\n",
       " <Element 'a' href='/index.php/admin/index/login.html' target='_blank'>,\n",
       " <Element 'a' href='http://old.nfu.edu.cn/' target='_blank'>,\n",
       " <Element 'a' target='_blank' href='http://www.beian.gov.cn/portal/registerSystemInfo?recordcode=44011702000081' style='display:inline-block;text-decoration:none;height:20px;line-height:20px;'>]"
      ]
     },
     "execution_count": 17,
     "metadata": {},
     "output_type": "execute_result"
    }
   ],
   "source": [
    "# B-B-1 使用 xpath \n",
    "r.html.xpath('//a')  # greedy 不挑 所有 <a> 元素标签"
   ]
  },
  {
   "cell_type": "code",
   "execution_count": 18,
   "metadata": {
    "collapsed": true
   },
   "outputs": [
    {
     "data": {
      "text/plain": [
       "['中山大学南方学院',\n",
       " '文学与传媒学院教师获邀参加2020年U40中澳暑期工作营及国际学术研讨会',\n",
       " '文学与传媒学院2019年学术研讨会暨总结大会顺利召开',\n",
       " '展现当代青年的迷惘与奋进——我校文学与传媒学院大型原创舞台剧《春至》圆满落幕',\n",
       " '文学与传媒学院考研座谈暨2020年考研交流答疑会圆满结束',\n",
       " '文学与传媒学院教师招聘启事',\n",
       " '创意无限，未来可期——文学与传媒学院青马工程第四讲暨闭营仪式顺利举行',\n",
       " '垃圾分类我先行——文学与传媒学院“分门别类，谁与争锋”垃圾分类趣味知识竞赛决赛顺利举行',\n",
       " '以梦为马，不负韶华——文学与传媒学院2019级新生开学典礼圆满结束',\n",
       " '文学与传媒学院学子在全国高校数字艺术设计大赛中斩获大奖',\n",
       " '文学与传媒学院学子在第七届中国大学生公共关系策划大赛中喜获佳绩',\n",
       " '倾心之作，致敬经典——文学与传媒学院紫阳戏剧社《倾城之恋》话剧展演圆满落幕',\n",
       " '毕业季 | 今朝有离别，青春不散场 ——文学与传媒学院2019届毕业生毕业季系列活动有序开展',\n",
       " '教育部',\n",
       " '广州市政府',\n",
       " '中国知网',\n",
       " '广东省教育厅',\n",
       " '珠江投资',\n",
       " '南方论丛',\n",
       " '中山大学 ',\n",
       " '珠江教育联盟']"
      ]
     },
     "execution_count": 18,
     "metadata": {},
     "output_type": "execute_result"
    }
   ],
   "source": [
    "# B-B-2 使用 xpath 限定 取特定属性\n",
    "# 注意和 B1 的内容相比, 是不是少了一些? \n",
    "# 没有特定属性title就不会被选到\n",
    "解析后.xpath('//a/@title')  # less greedy 有点挑 <a> 元素标签"
   ]
  },
  {
   "cell_type": "code",
   "execution_count": 19,
   "metadata": {
    "collapsed": true
   },
   "outputs": [
    {
     "data": {
      "text/plain": [
       "['中山大学南方学院',\n",
       " '文学与传媒学院教师获邀参加2020年U40中澳暑期工作营及国际学术研讨会',\n",
       " '文学与传媒学院2019年学术研讨会暨总结大会顺利召开',\n",
       " '展现当代青年的迷惘与奋进——我校文学与传媒学院大型原创舞台剧《春至》圆满落幕',\n",
       " '文学与传媒学院考研座谈暨2020年考研交流答疑会圆满结束',\n",
       " '文学与传媒学院教师招聘启事',\n",
       " '创意无限，未来可期——文学与传媒学院青马工程第四讲暨闭营仪式顺利举行',\n",
       " '垃圾分类我先行——文学与传媒学院“分门别类，谁与争锋”垃圾分类趣味知识竞赛决赛顺利举行',\n",
       " '以梦为马，不负韶华——文学与传媒学院2019级新生开学典礼圆满结束',\n",
       " '文学与传媒学院学子在全国高校数字艺术设计大赛中斩获大奖',\n",
       " '文学与传媒学院学子在第七届中国大学生公共关系策划大赛中喜获佳绩',\n",
       " '倾心之作，致敬经典——文学与传媒学院紫阳戏剧社《倾城之恋》话剧展演圆满落幕',\n",
       " '毕业季 | 今朝有离别，青春不散场 ——文学与传媒学院2019届毕业生毕业季系列活动有序开展',\n",
       " '教育部',\n",
       " '广州市政府',\n",
       " '中国知网',\n",
       " '广东省教育厅',\n",
       " '珠江投资',\n",
       " '南方论丛',\n",
       " '中山大学 ',\n",
       " '珠江教育联盟']"
      ]
     },
     "execution_count": 19,
     "metadata": {},
     "output_type": "execute_result"
    }
   ],
   "source": [
    "# B-B-3 使用 xpath  \n",
    "# greedy 不挑元素/标签  只挑有特定属性title的所有元素\n",
    "r.html.xpath('//*/@title')  "
   ]
  },
  {
   "cell_type": "markdown",
   "metadata": {},
   "source": [
    "### 挑剔ungreedy"
   ]
  },
  {
   "cell_type": "code",
   "execution_count": 20,
   "metadata": {
    "collapsed": true
   },
   "outputs": [
    {
     "data": {
      "text/plain": [
       "['文学与传媒学院教师获邀参加2020年U40中澳暑期工作营及国际学术研讨会',\n",
       " '文学与传媒学院2019年学术研讨会暨总结大会顺利召开',\n",
       " '展现当代青年的迷惘与奋进——我校文学与传媒学院大型原创舞台剧《春至》圆满落幕',\n",
       " '文学与传媒学院考研座谈暨2020年考研交流答疑会圆满结束',\n",
       " '文学与传媒学院教师招聘启事',\n",
       " '创意无限，未来可期——文学与传媒学院青马工程第四讲暨闭营仪式顺利举行',\n",
       " '垃圾分类我先行——文学与传媒学院“分门别类，谁与争锋”垃圾分类趣味知识竞赛决赛顺利举行',\n",
       " '以梦为马，不负韶华——文学与传媒学院2019级新生开学典礼圆满结束',\n",
       " '文学与传媒学院学子在全国高校数字艺术设计大赛中斩获大奖',\n",
       " '文学与传媒学院学子在第七届中国大学生公共关系策划大赛中喜获佳绩',\n",
       " '倾心之作，致敬经典——文学与传媒学院紫阳戏剧社《倾城之恋》话剧展演圆满落幕',\n",
       " '毕业季 | 今朝有离别，青春不散场 ——文学与传媒学院2019届毕业生毕业季系列活动有序开展']"
      ]
     },
     "execution_count": 20,
     "metadata": {},
     "output_type": "execute_result"
    }
   ],
   "source": [
    "# B-B-4 使用 xpath  # ungreedy 更精準\n",
    "r.html.xpath('//div[@class=\"news_title\"]/a/@title')"
   ]
  },
  {
   "cell_type": "code",
   "execution_count": 21,
   "metadata": {
    "collapsed": true
   },
   "outputs": [
    {
     "data": {
      "text/plain": [
       "[<Element 'a' href='/index.php/home/article/search_detail/id/6363.html' target='_blank' title='文学与传媒学院教师获邀参加2020年U40中澳暑期工作营及国际学术研讨会'>,\n",
       " <Element 'a' href='/index.php/home/article/search_detail/id/6366.html' target='_blank' title='文学与传媒学院2019年学术研讨会暨总结大会顺利召开'>,\n",
       " <Element 'a' href='/index.php/home/article/search_detail/id/6318.html' target='_blank' title='展现当代青年的迷惘与奋进——我校文学与传媒学院大型原创舞台剧《春至》圆满落幕'>,\n",
       " <Element 'a' href='/index.php/home/article/search_detail/id/6154.html' target='_blank' title='文学与传媒学院考研座谈暨2020年考研交流答疑会圆满结束'>,\n",
       " <Element 'a' href='/index.php/home/article/search_detail/id/5348.html' target='_blank' title='文学与传媒学院教师招聘启事'>,\n",
       " <Element 'a' href='/index.php/home/article/search_detail/id/6016.html' target='_blank' title='创意无限，未来可期——文学与传媒学院青马工程第四讲暨闭营仪式顺利举行'>,\n",
       " <Element 'a' href='/index.php/home/article/search_detail/id/6019.html' target='_blank' title='垃圾分类我先行——文学与传媒学院“分门别类，谁与争锋”垃圾分类趣味知识竞赛决赛顺利举行'>,\n",
       " <Element 'a' href='/index.php/home/article/search_detail/id/5794.html' target='_blank' title='以梦为马，不负韶华——文学与传媒学院2019级新生开学典礼圆满结束'>,\n",
       " <Element 'a' href='/index.php/home/article/search_detail/id/5776.html' target='_blank' title='文学与传媒学院学子在全国高校数字艺术设计大赛中斩获大奖'>,\n",
       " <Element 'a' href='/index.php/home/article/search_detail/id/5777.html' target='_blank' title='文学与传媒学院学子在第七届中国大学生公共关系策划大赛中喜获佳绩'>,\n",
       " <Element 'a' href='/index.php/home/article/search_detail/id/5642.html' target='_blank' title='倾心之作，致敬经典——文学与传媒学院紫阳戏剧社《倾城之恋》话剧展演圆满落幕'>,\n",
       " <Element 'a' href='/index.php/home/article/search_detail/id/5647.html' target='_blank' title='毕业季 | 今朝有离别，青春不散场 ——文学与传媒学院2019届毕业生毕业季系列活动有序开展'>]"
      ]
     },
     "execution_count": 21,
     "metadata": {},
     "output_type": "execute_result"
    }
   ],
   "source": [
    "# B-B-5 使用 xpath  # ungreedy 最精准\n",
    "#   xpath 完全没有用 // 也没有用 * \n",
    "r.html.xpath('body/div[@class=\"lin-content\"]/div[@class=\"lin-neiye clearfix\"]/div[@class=\"search_list_right\"]/div[@class=\"ny_content\"]/ul[@class=\"list-ul\"]/li/div[@class=\"news_title\"]/a')"
   ]
  },
  {
   "cell_type": "markdown",
   "metadata": {},
   "source": [
    "![Xpath Axis](http://krum.rz.uni-mannheim.de/inet-2005/images/xpath-axis.gif)\n",
    "## 更多xpath\n",
    "xpath是一门在XML文档（包括html，以樹狀為主的純本文結構文檔）中查找信息的语言\n",
    "\n",
    "2. 熟悉 [xpath 语法](https://www.w3cschool.cn/xpath/xpath-syntax.html)丶[xpath 节点](https://www.w3cschool.cn/xpath/xpath-nodes.html)\n",
    "    * 节点\n",
    "        * 元素丶属性丶文本丶命名空间丶文档（根）结点\n",
    "    * 节点关系 \n",
    "        * 父母（parent） vs.先辈（ancestor）\n",
    "        * 子女（children） vs. 后代（descendant）\n",
    "        * 同胞（sibling）\n",
    "3. 使用 [xpath cheatsheet](https://devhints.io/xpath)\n",
    "  * 在 Chrome Inspector 使用\n",
    "  * 在 requests-html (Python) 使用"
   ]
  },
  {
   "cell_type": "code",
   "execution_count": 22,
   "metadata": {
    "collapsed": true
   },
   "outputs": [
    {
     "name": "stdout",
     "output_type": "stream",
     "text": [
      "['文学与传媒学院教师获邀参加2020年U40中澳暑期工作营及国际学术研讨会', '文学与传媒学院2019年学术研讨会暨总结大会顺利召开', '展现当代青年的迷惘与奋进——我校文学与传媒学院大型原创舞台剧《春至》圆满落幕', '文学与传媒学院考研座谈暨2020年考研交流答疑会圆满结束', '文学与传媒学院教师招聘启事', '创意无限，未来可期——文学与传媒学院青马工程第四讲暨闭营仪式顺利举行', '垃圾分类我先行——文学与传媒学院“分门别类，谁与争锋”垃圾分类趣味知识竞赛决赛顺利举行', '以梦为马，不负韶华——文学与传媒学院2019级新生开学典礼圆满结束', '文学与传媒学院学子在全国高校数字艺术设计大赛中斩获大奖', '文学与传媒学院学子在第七届中国大学生公共关系策划大赛中喜获佳绩', '倾心之作，致敬经典——文学与传媒学院紫阳戏剧社《倾城之恋》话剧展演圆满落幕', '毕业季 | 今朝有离别，青春不散场 ——文学与传媒学院2019届毕业生毕业季系列活动有序开展']\n"
     ]
    }
   ],
   "source": [
    "# B-C-1 \n",
    "print (r.html.xpath('//div[@class=\"news_title\"]/a/@title'))"
   ]
  },
  {
   "cell_type": "code",
   "execution_count": 23,
   "metadata": {
    "collapsed": true
   },
   "outputs": [
    {
     "name": "stdout",
     "output_type": "stream",
     "text": [
      "['/index.php/home/article/search_detail/id/6363.html', '/index.php/home/article/search_detail/id/6366.html', '/index.php/home/article/search_detail/id/6318.html', '/index.php/home/article/search_detail/id/6154.html', '/index.php/home/article/search_detail/id/5348.html', '/index.php/home/article/search_detail/id/6016.html', '/index.php/home/article/search_detail/id/6019.html', '/index.php/home/article/search_detail/id/5794.html', '/index.php/home/article/search_detail/id/5776.html', '/index.php/home/article/search_detail/id/5777.html', '/index.php/home/article/search_detail/id/5642.html', '/index.php/home/article/search_detail/id/5647.html']\n"
     ]
    }
   ],
   "source": [
    "# B-C-2\n",
    "print (r.html.xpath('//div[@class=\"news_title\"]/a/@href'))"
   ]
  },
  {
   "cell_type": "code",
   "execution_count": 24,
   "metadata": {
    "collapsed": true
   },
   "outputs": [
    {
     "name": "stdout",
     "output_type": "stream",
     "text": [
      "['2020-01-06', '2020-01-06', '2019-12-20', '2019-11-22', '2019-11-05', '2019-11-04', '2019-11-04', '2019-09-16', '2019-09-09', '2019-09-09', '2019-06-24', '2019-06-24']\n"
     ]
    }
   ],
   "source": [
    "# B-C-3\n",
    "print (r.html.xpath('//font[@class=\"right-more\"]/text()'))"
   ]
  },
  {
   "cell_type": "code",
   "execution_count": 25,
   "metadata": {
    "collapsed": true
   },
   "outputs": [
    {
     "name": "stdout",
     "output_type": "stream",
     "text": [
      "['2020-01-06', '2020-01-06', '2019-12-20', '2019-11-22', '2019-11-05', '2019-11-04', '2019-11-04', '2019-09-16', '2019-09-09', '2019-09-09', '2019-06-24', '2019-06-24']\n"
     ]
    }
   ],
   "source": [
    "# B-C-4\n",
    "print (r.html.xpath('//div[@class=\"news_title\"]/preceding-sibling::font/text()'))\n",
    "\n",
    "## 廖老师主张这个 B-C-4代码，会比B-C-3更好，你能不能从B-C-1, 及 B-C-2观察xpath语法，猜猜为什麽"
   ]
  },
  {
   "cell_type": "markdown",
   "metadata": {},
   "source": [
    "## 使用pandas 輸出xlsx\n",
    "4. 简易使用 [pd.DataFrame](https://pandas.pydata.org/pandas-docs/stable/reference/api/pandas.DataFrame.to_excel.html)"
   ]
  },
  {
   "cell_type": "code",
   "execution_count": 26,
   "metadata": {
    "collapsed": true
   },
   "outputs": [
    {
     "data": {
      "text/html": [
       "<div>\n",
       "<style scoped>\n",
       "    .dataframe tbody tr th:only-of-type {\n",
       "        vertical-align: middle;\n",
       "    }\n",
       "\n",
       "    .dataframe tbody tr th {\n",
       "        vertical-align: top;\n",
       "    }\n",
       "\n",
       "    .dataframe thead th {\n",
       "        text-align: right;\n",
       "    }\n",
       "</style>\n",
       "<table border=\"1\" class=\"dataframe\">\n",
       "  <thead>\n",
       "    <tr style=\"text-align: right;\">\n",
       "      <th></th>\n",
       "      <th>标题</th>\n",
       "      <th>链结</th>\n",
       "      <th>日期</th>\n",
       "    </tr>\n",
       "  </thead>\n",
       "  <tbody>\n",
       "    <tr>\n",
       "      <th>0</th>\n",
       "      <td>文学与传媒学院教师获邀参加2020年U40中澳暑期工作营及国际学术研讨会</td>\n",
       "      <td>/index.php/home/article/search_detail/id/6363....</td>\n",
       "      <td>2020-01-06</td>\n",
       "    </tr>\n",
       "    <tr>\n",
       "      <th>1</th>\n",
       "      <td>文学与传媒学院2019年学术研讨会暨总结大会顺利召开</td>\n",
       "      <td>/index.php/home/article/search_detail/id/6366....</td>\n",
       "      <td>2020-01-06</td>\n",
       "    </tr>\n",
       "    <tr>\n",
       "      <th>2</th>\n",
       "      <td>展现当代青年的迷惘与奋进——我校文学与传媒学院大型原创舞台剧《春至》圆满落幕</td>\n",
       "      <td>/index.php/home/article/search_detail/id/6318....</td>\n",
       "      <td>2019-12-20</td>\n",
       "    </tr>\n",
       "    <tr>\n",
       "      <th>3</th>\n",
       "      <td>文学与传媒学院考研座谈暨2020年考研交流答疑会圆满结束</td>\n",
       "      <td>/index.php/home/article/search_detail/id/6154....</td>\n",
       "      <td>2019-11-22</td>\n",
       "    </tr>\n",
       "    <tr>\n",
       "      <th>4</th>\n",
       "      <td>文学与传媒学院教师招聘启事</td>\n",
       "      <td>/index.php/home/article/search_detail/id/5348....</td>\n",
       "      <td>2019-11-05</td>\n",
       "    </tr>\n",
       "    <tr>\n",
       "      <th>5</th>\n",
       "      <td>创意无限，未来可期——文学与传媒学院青马工程第四讲暨闭营仪式顺利举行</td>\n",
       "      <td>/index.php/home/article/search_detail/id/6016....</td>\n",
       "      <td>2019-11-04</td>\n",
       "    </tr>\n",
       "    <tr>\n",
       "      <th>6</th>\n",
       "      <td>垃圾分类我先行——文学与传媒学院“分门别类，谁与争锋”垃圾分类趣味知识竞赛决赛顺利举行</td>\n",
       "      <td>/index.php/home/article/search_detail/id/6019....</td>\n",
       "      <td>2019-11-04</td>\n",
       "    </tr>\n",
       "    <tr>\n",
       "      <th>7</th>\n",
       "      <td>以梦为马，不负韶华——文学与传媒学院2019级新生开学典礼圆满结束</td>\n",
       "      <td>/index.php/home/article/search_detail/id/5794....</td>\n",
       "      <td>2019-09-16</td>\n",
       "    </tr>\n",
       "    <tr>\n",
       "      <th>8</th>\n",
       "      <td>文学与传媒学院学子在全国高校数字艺术设计大赛中斩获大奖</td>\n",
       "      <td>/index.php/home/article/search_detail/id/5776....</td>\n",
       "      <td>2019-09-09</td>\n",
       "    </tr>\n",
       "    <tr>\n",
       "      <th>9</th>\n",
       "      <td>文学与传媒学院学子在第七届中国大学生公共关系策划大赛中喜获佳绩</td>\n",
       "      <td>/index.php/home/article/search_detail/id/5777....</td>\n",
       "      <td>2019-09-09</td>\n",
       "    </tr>\n",
       "    <tr>\n",
       "      <th>10</th>\n",
       "      <td>倾心之作，致敬经典——文学与传媒学院紫阳戏剧社《倾城之恋》话剧展演圆满落幕</td>\n",
       "      <td>/index.php/home/article/search_detail/id/5642....</td>\n",
       "      <td>2019-06-24</td>\n",
       "    </tr>\n",
       "    <tr>\n",
       "      <th>11</th>\n",
       "      <td>毕业季 | 今朝有离别，青春不散场 ——文学与传媒学院2019届毕业生毕业季系列活动有序开展</td>\n",
       "      <td>/index.php/home/article/search_detail/id/5647....</td>\n",
       "      <td>2019-06-24</td>\n",
       "    </tr>\n",
       "  </tbody>\n",
       "</table>\n",
       "</div>"
      ],
      "text/plain": [
       "                                                标题  \\\n",
       "0             文学与传媒学院教师获邀参加2020年U40中澳暑期工作营及国际学术研讨会   \n",
       "1                       文学与传媒学院2019年学术研讨会暨总结大会顺利召开   \n",
       "2           展现当代青年的迷惘与奋进——我校文学与传媒学院大型原创舞台剧《春至》圆满落幕   \n",
       "3                     文学与传媒学院考研座谈暨2020年考研交流答疑会圆满结束   \n",
       "4                                    文学与传媒学院教师招聘启事   \n",
       "5               创意无限，未来可期——文学与传媒学院青马工程第四讲暨闭营仪式顺利举行   \n",
       "6      垃圾分类我先行——文学与传媒学院“分门别类，谁与争锋”垃圾分类趣味知识竞赛决赛顺利举行   \n",
       "7                以梦为马，不负韶华——文学与传媒学院2019级新生开学典礼圆满结束   \n",
       "8                      文学与传媒学院学子在全国高校数字艺术设计大赛中斩获大奖   \n",
       "9                  文学与传媒学院学子在第七届中国大学生公共关系策划大赛中喜获佳绩   \n",
       "10           倾心之作，致敬经典——文学与传媒学院紫阳戏剧社《倾城之恋》话剧展演圆满落幕   \n",
       "11  毕业季 | 今朝有离别，青春不散场 ——文学与传媒学院2019届毕业生毕业季系列活动有序开展   \n",
       "\n",
       "                                                   链结          日期  \n",
       "0   /index.php/home/article/search_detail/id/6363....  2020-01-06  \n",
       "1   /index.php/home/article/search_detail/id/6366....  2020-01-06  \n",
       "2   /index.php/home/article/search_detail/id/6318....  2019-12-20  \n",
       "3   /index.php/home/article/search_detail/id/6154....  2019-11-22  \n",
       "4   /index.php/home/article/search_detail/id/5348....  2019-11-05  \n",
       "5   /index.php/home/article/search_detail/id/6016....  2019-11-04  \n",
       "6   /index.php/home/article/search_detail/id/6019....  2019-11-04  \n",
       "7   /index.php/home/article/search_detail/id/5794....  2019-09-16  \n",
       "8   /index.php/home/article/search_detail/id/5776....  2019-09-09  \n",
       "9   /index.php/home/article/search_detail/id/5777....  2019-09-09  \n",
       "10  /index.php/home/article/search_detail/id/5642....  2019-06-24  \n",
       "11  /index.php/home/article/search_detail/id/5647....  2019-06-24  "
      ]
     },
     "execution_count": 26,
     "metadata": {},
     "output_type": "execute_result"
    }
   ],
   "source": [
    "# B-D-1 pd.DataFrame 建构，pandas课有教\n",
    "df = pd.DataFrame( {\n",
    "         \"标题\": r.html.xpath('//div[@class=\"news_title\"]/a/@title'),\n",
    "         \"链结\": r.html.xpath('//div[@class=\"news_title\"]/a/@href'),\n",
    "         \"日期\": r.html.xpath('//font[@class=\"right-more\"]/text()'),\n",
    "     } )\n",
    "df"
   ]
  },
  {
   "cell_type": "code",
   "execution_count": null,
   "metadata": {},
   "outputs": [],
   "source": [
    "# B-D-2 pd.DataFrame 输出excel，pandas课有教\n",
    "df.to_excel(\"20春_Web数据挖掘_week02_nfu_文学与传媒学院.xlsx\", sheet_name=\"搜查结果\")"
   ]
  },
  {
   "cell_type": "markdown",
   "metadata": {},
   "source": [
    "# 本周小结内容\n",
    "* 对网页内容进行HTML解析并尝试使用pandas输出xlsx\n",
    "* 初步了解xpath的语法、挑剔greedy与不挑剔ungreedy的两种策略，以数据科学家的角度看xpath\n",
    "* 练习使用Xpath在文传学院的官网抓取想要的数据并以文字形式呈现"
   ]
  },
  {
   "cell_type": "markdown",
   "metadata": {},
   "source": [
    "## 打开Excel档看成果"
   ]
  },
  {
   "cell_type": "markdown",
   "metadata": {},
   "source": [
    "# 课后练习及下周项目m.liepin.com\n",
    "\n",
    "使用 xpath 应用 [m.liepin.com](https://m.liepin.com/zhaopin/)\n",
    "\n",
    "你是数据科学家，这m.liepin.com有什麽样的牛肉，你打算要怎麽抓？\n",
    "* 工作名称\n",
    "* 工作地点\n",
    "* 工作$"
   ]
  },
  {
   "cell_type": "code",
   "execution_count": 21,
   "metadata": {},
   "outputs": [],
   "source": [
    "# C-1   单一页面\n",
    "url = \"https://m.liepin.com/zhaopin/?keyword=%E6%95%B0%E6%8D%AE%E6%8C%96%E6%8E%98&dqs=050080&salarylow=0&salaryhigh=999&industrys=000&compScale=000&compKind=000&pubtime=000&jobkind=&d_headId=937760915017af04bca7665be2191f49&d_ckId=937760915017af04bca7665be2191f49&d_sfrom=search_unknown&d_curPage=0&d_pageSize=60&siTag=1B2M2Y8AsgTpgAmY7PhCfg~-XI7hbz1g6-WSEBAhI4bew\"\n",
    "session = HTMLSession()\n",
    "r = session.get(\"https://m.liepin.com/zhaopin/?keyword=%E6%95%B0%E6%8D%AE%E6%8C%96%E6%8E%98&dqs=050080&salarylow=0&salaryhigh=999&industrys=000&compScale=000&compKind=000&pubtime=000&jobkind=&d_headId=937760915017af04bca7665be2191f49&d_ckId=937760915017af04bca7665be2191f49&d_sfrom=search_unknown&d_curPage=0&d_pageSize=60&siTag=1B2M2Y8AsgTpgAmY7PhCfg~-XI7hbz1g6-WSEBAhI4bew\")"
   ]
  },
  {
   "cell_type": "code",
   "execution_count": 22,
   "metadata": {},
   "outputs": [],
   "source": [
    "# C-2 保存备用\n",
    "with open (\"20春_Web数据挖掘_week02_zhaopin_pandas.html\", encoding = \"utf8\", mode = \"w\") as fp:\n",
    "    fp.write(r.html.html)"
   ]
  },
  {
   "cell_type": "code",
   "execution_count": 70,
   "metadata": {
    "scrolled": true
   },
   "outputs": [
    {
     "name": "stdout",
     "output_type": "stream",
     "text": [
      "['大数据工程师 ', '科技岗-汕头分行 ', '产品推广经理 ', '数据实施工程师 ', '大数据项目经理 ', '公关推广主管 ', '会员服务主管/专员 ']\n",
      "['https://m.liepin.com/job/1926689647.shtml', 'https://m.liepin.com/job/1917232379.shtml', 'https://m.liepin.com/job/1919615159.shtml', 'https://m.liepin.com/job/1910888934.shtml', 'https://m.liepin.com/job/1910888740.shtml', 'https://m.liepin.com/job/1923207559.shtml', 'https://m.liepin.com/job/1916805841.shtml']\n",
      "['8-10k·12薪', '面议', '15-20k·12薪', '8-20k·12薪', '8-20k·12薪', '面议', '3-8k·12薪']\n"
     ]
    }
   ],
   "source": [
    "# C-3\n",
    "# 易: '职称', '链结', '薪水'\n",
    "\n",
    "print (r.html.xpath('//*[@class=\"name-text\"]/text()'))\n",
    "print (r.html.xpath('//*[@class=\"flex-2 job-name\"]/@href'))\n",
    "print (r.html.xpath('//*[@class=\"text-warning flex-1\"]/text()'))\n",
    "# 数据\n"
   ]
  },
  {
   "cell_type": "code",
   "execution_count": 63,
   "metadata": {},
   "outputs": [
    {
     "data": {
      "text/html": [
       "<div>\n",
       "<style scoped>\n",
       "    .dataframe tbody tr th:only-of-type {\n",
       "        vertical-align: middle;\n",
       "    }\n",
       "\n",
       "    .dataframe tbody tr th {\n",
       "        vertical-align: top;\n",
       "    }\n",
       "\n",
       "    .dataframe thead th {\n",
       "        text-align: right;\n",
       "    }\n",
       "</style>\n",
       "<table border=\"1\" class=\"dataframe\">\n",
       "  <thead>\n",
       "    <tr style=\"text-align: right;\">\n",
       "      <th></th>\n",
       "      <th>公司名称</th>\n",
       "      <th>公司地点</th>\n",
       "    </tr>\n",
       "  </thead>\n",
       "  <tbody>\n",
       "  </tbody>\n",
       "</table>\n",
       "</div>"
      ],
      "text/plain": [
       "Empty DataFrame\n",
       "Columns: [公司名称, 公司地点]\n",
       "Index: []"
      ]
     },
     "execution_count": 63,
     "metadata": {},
     "output_type": "execute_result"
    }
   ],
   "source": [
    "# C-4\n",
    "# 中: '公司地点', '公司名称'\n",
    "\n",
    "df = pd.DataFrame( {\n",
    "         \"公司名称\": r.html.xpath('//div[@class=\"ellipsis-1 company-name\"]/text()'),\n",
    "         \"公司地点\": r.html.xpath('body/div[@class=\"job-card\"]/div[@class=\"clearfix\"]/div[@class=\"right-info\"]/ul/li/a'),\n",
    "     } )\n",
    "df\n",
    "\n",
    "# 数据 = pd.DataFrame(数据字典)\n",
    "# 数据"
   ]
  },
  {
   "cell_type": "code",
   "execution_count": 47,
   "metadata": {
    "scrolled": true
   },
   "outputs": [
    {
     "ename": "NameError",
     "evalue": "name '数据' is not defined",
     "output_type": "error",
     "traceback": [
      "\u001b[1;31m---------------------------------------------------------------------------\u001b[0m",
      "\u001b[1;31mNameError\u001b[0m                                 Traceback (most recent call last)",
      "\u001b[1;32m<ipython-input-47-568d0559ebf9>\u001b[0m in \u001b[0;36m<module>\u001b[1;34m\u001b[0m\n\u001b[0;32m      4\u001b[0m \u001b[1;31m# 你的代码?\u001b[0m\u001b[1;33m\u001b[0m\u001b[1;33m\u001b[0m\u001b[1;33m\u001b[0m\u001b[0m\n\u001b[0;32m      5\u001b[0m \u001b[1;33m\u001b[0m\u001b[0m\n\u001b[1;32m----> 6\u001b[1;33m \u001b[0m数据\u001b[0m\u001b[1;33m.\u001b[0m\u001b[0mto_excel\u001b[0m\u001b[1;33m(\u001b[0m\u001b[1;34m\"20春_Web数据挖掘_week02_liepin.xlsx\"\u001b[0m\u001b[1;33m,\u001b[0m \u001b[0msheet_name\u001b[0m\u001b[1;33m=\u001b[0m\u001b[1;34m\"搜查结果\"\u001b[0m\u001b[1;33m)\u001b[0m\u001b[1;33m\u001b[0m\u001b[1;33m\u001b[0m\u001b[0m\n\u001b[0m\u001b[0;32m      7\u001b[0m \u001b[0m数据\u001b[0m\u001b[1;33m\u001b[0m\u001b[1;33m\u001b[0m\u001b[0m\n",
      "\u001b[1;31mNameError\u001b[0m: name '数据' is not defined"
     ]
    }
   ],
   "source": [
    "# C-5\n",
    "# 难: '公司URL', '时间', '经验'\n",
    "\n",
    "# 你的代码?\n",
    "\n",
    "数据.to_excel(\"20春_Web数据挖掘_week02_liepin.xlsx\", sheet_name=\"搜查结果\")\n",
    "数据 "
   ]
  },
  {
   "cell_type": "code",
   "execution_count": null,
   "metadata": {},
   "outputs": [],
   "source": []
  },
  {
   "cell_type": "code",
   "execution_count": null,
   "metadata": {},
   "outputs": [],
   "source": []
  }
 ],
 "metadata": {
  "kernelspec": {
   "display_name": "Python 3",
   "language": "python",
   "name": "python3"
  },
  "language_info": {
   "codemirror_mode": {
    "name": "ipython",
    "version": 3
   },
   "file_extension": ".py",
   "mimetype": "text/x-python",
   "name": "python",
   "nbconvert_exporter": "python",
   "pygments_lexer": "ipython3",
   "version": "3.7.3"
  },
  "toc": {
   "base_numbering": 1,
   "nav_menu": {},
   "number_sections": true,
   "sideBar": true,
   "skip_h1_title": false,
   "title_cell": "Table of Contents",
   "title_sidebar": "Contents",
   "toc_cell": false,
   "toc_position": {
    "height": "749px",
    "left": "1125.609375px",
    "top": "110px",
    "width": "281.390625px"
   },
   "toc_section_display": true,
   "toc_window_display": true
  }
 },
 "nbformat": 4,
 "nbformat_minor": 2
}
